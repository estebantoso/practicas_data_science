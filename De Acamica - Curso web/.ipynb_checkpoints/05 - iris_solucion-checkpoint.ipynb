{
 "cells": [
  {
   "cell_type": "markdown",
   "metadata": {
    "_cell_guid": "a6f5e4ba-5d3b-47bf-8fef-0400af6e7d93",
    "_execution_state": "idle",
    "_uuid": "3c30ccab5dba1f70dcfd09ca58abda68be0dfdfb"
   },
   "source": [
    "# Actividad - Iris dataset\n",
    "\n",
    "En esta actividad vamos a practicar técnicas de análisis exploratorio vistas.\n"
   ]
  },
  {
   "cell_type": "code",
   "execution_count": 1,
   "metadata": {
    "_cell_guid": "6069a15c-95ce-4f7c-b3d2-daa8cf6f72d6",
    "_execution_state": "idle",
    "_uuid": "a48cde050b68c980f0e79a9f94b37a435af6ce04"
   },
   "outputs": [],
   "source": [
    "import numpy as np\n",
    "import pandas as pd\n",
    "import matplotlib.pyplot as plt\n",
    "import seaborn as sns\n",
    "\n"
   ]
  },
  {
   "cell_type": "markdown",
   "metadata": {
    "_cell_guid": "ad66bd60-be2e-43d1-9b6b-3fc51311618f",
    "_execution_state": "idle",
    "_uuid": "e88f72bb9560508453edda607f86abbc31389c93"
   },
   "source": [
    "# Estudiando el dataset"
   ]
  },
  {
   "cell_type": "markdown",
   "metadata": {},
   "source": [
    "Vamos a empezar estudiando el dataset. Para eso lo primero que hacemos es cargarlos y ver cómo están formadas sus instancias y cuales son sus columnas."
   ]
  },
  {
   "cell_type": "code",
   "execution_count": 2,
   "metadata": {
    "_cell_guid": "e5b1e4a3-b5f6-4027-be9a-d68cfb89415b",
    "_execution_state": "idle",
    "_uuid": "f35d8dfcece95e8363a0df70262722b1974da274"
   },
   "outputs": [
    {
     "data": {
      "text/html": [
       "<div>\n",
       "<style scoped>\n",
       "    .dataframe tbody tr th:only-of-type {\n",
       "        vertical-align: middle;\n",
       "    }\n",
       "\n",
       "    .dataframe tbody tr th {\n",
       "        vertical-align: top;\n",
       "    }\n",
       "\n",
       "    .dataframe thead th {\n",
       "        text-align: right;\n",
       "    }\n",
       "</style>\n",
       "<table border=\"1\" class=\"dataframe\">\n",
       "  <thead>\n",
       "    <tr style=\"text-align: right;\">\n",
       "      <th></th>\n",
       "      <th>Id</th>\n",
       "      <th>SepalLengthCm</th>\n",
       "      <th>SepalWidthCm</th>\n",
       "      <th>PetalLengthCm</th>\n",
       "      <th>PetalWidthCm</th>\n",
       "      <th>Species</th>\n",
       "    </tr>\n",
       "  </thead>\n",
       "  <tbody>\n",
       "    <tr>\n",
       "      <th>0</th>\n",
       "      <td>1</td>\n",
       "      <td>5.1</td>\n",
       "      <td>3.5</td>\n",
       "      <td>1.4</td>\n",
       "      <td>0.2</td>\n",
       "      <td>Iris-setosa</td>\n",
       "    </tr>\n",
       "    <tr>\n",
       "      <th>1</th>\n",
       "      <td>2</td>\n",
       "      <td>4.9</td>\n",
       "      <td>3.0</td>\n",
       "      <td>1.4</td>\n",
       "      <td>0.2</td>\n",
       "      <td>Iris-setosa</td>\n",
       "    </tr>\n",
       "    <tr>\n",
       "      <th>2</th>\n",
       "      <td>3</td>\n",
       "      <td>4.7</td>\n",
       "      <td>3.2</td>\n",
       "      <td>1.3</td>\n",
       "      <td>0.2</td>\n",
       "      <td>Iris-setosa</td>\n",
       "    </tr>\n",
       "    <tr>\n",
       "      <th>3</th>\n",
       "      <td>4</td>\n",
       "      <td>4.6</td>\n",
       "      <td>3.1</td>\n",
       "      <td>1.5</td>\n",
       "      <td>0.2</td>\n",
       "      <td>Iris-setosa</td>\n",
       "    </tr>\n",
       "    <tr>\n",
       "      <th>4</th>\n",
       "      <td>5</td>\n",
       "      <td>5.0</td>\n",
       "      <td>3.6</td>\n",
       "      <td>1.4</td>\n",
       "      <td>0.2</td>\n",
       "      <td>Iris-setosa</td>\n",
       "    </tr>\n",
       "  </tbody>\n",
       "</table>\n",
       "</div>"
      ],
      "text/plain": [
       "   Id  SepalLengthCm  SepalWidthCm  PetalLengthCm  PetalWidthCm      Species\n",
       "0   1            5.1           3.5            1.4           0.2  Iris-setosa\n",
       "1   2            4.9           3.0            1.4           0.2  Iris-setosa\n",
       "2   3            4.7           3.2            1.3           0.2  Iris-setosa\n",
       "3   4            4.6           3.1            1.5           0.2  Iris-setosa\n",
       "4   5            5.0           3.6            1.4           0.2  Iris-setosa"
      ]
     },
     "execution_count": 2,
     "metadata": {},
     "output_type": "execute_result"
    }
   ],
   "source": [
    "data = pd.read_csv(\"iris.csv\")\n",
    "data.head()"
   ]
  },
  {
   "cell_type": "markdown",
   "metadata": {},
   "source": [
    "Entre los diferentes atributos tenemos los largos y anchos de pétalos y sépalos y la especie de la flor.\n",
    "\n",
    "Conociendo estos atributos vamos a comenzar haciendo un análisis exploratorio y estadístico de los valores.\n",
    "\n",
    "Existen muchas formas de estudiar las variables, en este caso elegimos obtener la siguiente información:\n",
    "- Especies únicas existentes en el dataset \n",
    "- Obtener largo total del dataset\n",
    "- Rango de valores en los cuales se encuentran los atributos\n",
    "- Varianza de los atributos\n",
    "- Desvío estandar\n",
    "- Descripción estadística "
   ]
  },
  {
   "cell_type": "markdown",
   "metadata": {},
   "source": [
    "## Especies únicas y largo del dataset"
   ]
  },
  {
   "cell_type": "code",
   "execution_count": 3,
   "metadata": {},
   "outputs": [
    {
     "name": "stdout",
     "output_type": "stream",
     "text": [
      "Tipos de especies: ['Iris-setosa', 'Iris-versicolor', 'Iris-virginica']\n",
      "\n",
      "Largo del dataset: 150\n",
      "\n"
     ]
    }
   ],
   "source": [
    "especies = list(data[\"Species\"].unique())\n",
    "print(\"Tipos de especies: %s\\n\" % especies)\n",
    "\n",
    "print(\"Largo del dataset: %i\\n\" % len(data))\n"
   ]
  },
  {
   "cell_type": "markdown",
   "metadata": {},
   "source": [
    "## Rango del largo y ancho de pétalos y sépalos"
   ]
  },
  {
   "cell_type": "code",
   "execution_count": 4,
   "metadata": {},
   "outputs": [
    {
     "name": "stdout",
     "output_type": "stream",
     "text": [
      "Rango del largo del sépalo: [4.3, 7.9]\n",
      "Rango del ancho del sépalo: [2.0, 7.9]\n",
      "Rango del largo del pétalo: [1.0, 6.9]\n",
      "Rango del ancho del pétalo: [0.1, 2.5]\n",
      "\n"
     ]
    }
   ],
   "source": [
    "print(\"Rango del largo del sépalo: [%s, %s]\" % (min(data[\"SepalLengthCm\"]), max(data[\"SepalLengthCm\"])))\n",
    "print(\"Rango del ancho del sépalo: [%s, %s]\" % (min(data[\"SepalWidthCm\"]), max(data[\"SepalLengthCm\"])))\n",
    "print(\"Rango del largo del pétalo: [%s, %s]\" % (min(data[\"PetalLengthCm\"]), max(data[\"PetalLengthCm\"])))\n",
    "print(\"Rango del ancho del pétalo: [%s, %s]\\n\" % (min(data[\"PetalWidthCm\"]), max(data[\"PetalWidthCm\"])))\n"
   ]
  },
  {
   "cell_type": "markdown",
   "metadata": {},
   "source": [
    "## Varianza y desvío estandar"
   ]
  },
  {
   "cell_type": "code",
   "execution_count": 5,
   "metadata": {
    "_cell_guid": "01bf7bd5-5512-4da1-88f2-986d0d246405",
    "_execution_state": "idle",
    "_uuid": "05502ca33fc73e5bac0a26385d4f476f9953f444"
   },
   "outputs": [
    {
     "name": "stdout",
     "output_type": "stream",
     "text": [
      "Varianza del largo del sépalo:\t 0.681122\n",
      "Varianza del ancho del sépalo:\t 0.186751\n",
      "Varianza del largo del pétalo:\t 3.092425\n",
      "Varianza del ancho del pétalo:\t 0.578532\n",
      "\n",
      "Desvío estandar del largo del sépalo\t 0.825301\n",
      "Desvío estandar del ancho del sépalo\t 0.432147\n",
      "Desvío estandar del largo del pétalo\t 1.758529\n",
      "Desvío estandar del ancho del pétalo\t 0.760613\n",
      "\n"
     ]
    }
   ],
   "source": [
    "\n",
    "print(\"Varianza del largo del sépalo:\\t %f\" % np.var(data[\"SepalLengthCm\"]))\n",
    "print(\"Varianza del ancho del sépalo:\\t %f\" % np.var(data[\"SepalWidthCm\"]))\n",
    "print(\"Varianza del largo del pétalo:\\t %f\" % np.var(data[\"PetalLengthCm\"]))\n",
    "print(\"Varianza del ancho del pétalo:\\t %f\\n\" % np.var(data[\"PetalWidthCm\"]))\n",
    "\n",
    "print(\"Desvío estandar del largo del sépalo\\t %f\" % np.std(data[\"SepalLengthCm\"]))\n",
    "print(\"Desvío estandar del ancho del sépalo\\t %f\" % np.std(data[\"SepalWidthCm\"]))\n",
    "print(\"Desvío estandar del largo del pétalo\\t %f\" % np.std(data[\"PetalLengthCm\"]))\n",
    "print(\"Desvío estandar del ancho del pétalo\\t %f\\n\" % np.std(data[\"PetalWidthCm\"]))\n"
   ]
  },
  {
   "cell_type": "code",
   "execution_count": 6,
   "metadata": {},
   "outputs": [
    {
     "name": "stdout",
     "output_type": "stream",
     "text": [
      "Descripción\n",
      "---\n",
      "       SepalWidthCm  PetalLengthCm  PetalWidthCm\n",
      "count    150.000000     150.000000    150.000000\n",
      "mean       3.054000       3.758667      1.198667\n",
      "std        0.433594       1.764420      0.763161\n",
      "min        2.000000       1.000000      0.100000\n",
      "25%        2.800000       1.600000      0.300000\n",
      "50%        3.000000       4.350000      1.300000\n",
      "75%        3.300000       5.100000      1.800000\n",
      "max        4.400000       6.900000      2.500000\n"
     ]
    }
   ],
   "source": [
    "print(\"Descripción\\n---\")\n",
    "print(data[data.columns[2:]].describe())"
   ]
  },
  {
   "cell_type": "markdown",
   "metadata": {
    "_cell_guid": "d5185617-f8a8-4686-91bd-394b46a8379d",
    "_execution_state": "idle",
    "_uuid": "468d441e72208d5407523dda4ef4e223b545e70b"
   },
   "source": [
    "# Cómo se distribuyen los datos"
   ]
  },
  {
   "cell_type": "markdown",
   "metadata": {},
   "source": [
    "Ahora que ya tenemos la información básica descriptiva de nuestros datos vamos a hacer algunas visualización para estudiar la distribución de sus datos. Comenzaremos con histogramas de cada una de sus columnas"
   ]
  },
  {
   "cell_type": "code",
   "execution_count": 7,
   "metadata": {},
   "outputs": [
    {
     "data": {
      "text/plain": [
       "array([[<matplotlib.axes._subplots.AxesSubplot object at 0x000001F880DE7198>,\n",
       "        <matplotlib.axes._subplots.AxesSubplot object at 0x000001F8810A5F28>],\n",
       "       [<matplotlib.axes._subplots.AxesSubplot object at 0x000001F8810D71D0>,\n",
       "        <matplotlib.axes._subplots.AxesSubplot object at 0x000001F881101438>]],\n",
       "      dtype=object)"
      ]
     },
     "execution_count": 7,
     "metadata": {},
     "output_type": "execute_result"
    },
    {
     "data": {
      "image/png": "[encoded data removed]",
      "text/plain": [
       "<Figure size 720x720 with 4 Axes>"
      ]
     },
     "metadata": {
      "needs_background": "light"
     },
     "output_type": "display_data"
    }
   ],
   "source": [
    "data.hist(\n",
    "    column=[\"SepalLengthCm\", \"SepalWidthCm\", \"PetalLengthCm\", \"PetalWidthCm\", \"Species\"],\n",
    "    figsize=(10, 10))\n"
   ]
  },
  {
   "cell_type": "markdown",
   "metadata": {},
   "source": [
    "Además de los histogramas podríamos haber hecho una visualización más informativa, como puede ser el `pairplot` que nos provee `seaborn`."
   ]
  },
  {
   "cell_type": "code",
   "execution_count": null,
   "metadata": {
    "_cell_guid": "e72ff2b6-92b1-432c-b301-599d23337095",
    "_execution_state": "idle",
    "_uuid": "22143ae614690f31fae96e7c878e285df7775d24"
   },
   "outputs": [],
   "source": [
    "sns.set(style=\"ticks\", color_codes=True)\n",
    "sns.pairplot(data.drop('Id', axis=1), diag_kind='kde', hue=\"Species\", palette=\"husl\")\n"
   ]
  },
  {
   "cell_type": "markdown",
   "metadata": {
    "_cell_guid": "856e3750-62bf-4e85-9652-7abd2ab9d794",
    "_execution_state": "idle",
    "_uuid": "32067a7d4196d17e1404d48a0a6bd48bc01c1ce7"
   },
   "source": [
    "# Estudio de correlaciones"
   ]
  },
  {
   "cell_type": "markdown",
   "metadata": {},
   "source": [
    "Ya estuvimos viendo diferentes visualizaciones de nuestros datos y realizando un análisis descriptivo a nivel estadístico de los campos. A continuación vamos a estudiar la correlación que existe entre las columnas para intentar sacar algunas conclusiones. "
   ]
  },
  {
   "cell_type": "code",
   "execution_count": null,
   "metadata": {},
   "outputs": [],
   "source": [
    "data.corr()"
   ]
  },
  {
   "cell_type": "markdown",
   "metadata": {},
   "source": [
    "Una vez que tenemos la tabla de correlaciones podemos hacer un `heatmap` para ver más fácilmente estas relaciones."
   ]
  },
  {
   "cell_type": "code",
   "execution_count": null,
   "metadata": {
    "_cell_guid": "78ed2093-c178-41fa-8df9-1a5ee015efcf",
    "_execution_state": "idle",
    "_uuid": "e78c7509a8fd3baf980a25e169e1bffa3345e44d"
   },
   "outputs": [],
   "source": [
    "# Sacamos el id\n",
    "dt = data[data.columns[1:]]\n",
    "\n",
    "corr = dt.corr() #returns a dataframe, so it can be reused\n",
    "\n",
    "# Quitamos el triangulo superior para facilitar la lectura\n",
    "bool_upper_matrix = np.tril(np.ones(corr.shape)).astype(np.bool)\n",
    "corr = corr.where(bool_upper_matrix)\n",
    "\n",
    "\n",
    "# Utilizamos el heatmap de seaborn para visualizar\n",
    "sns.heatmap(corr, cmap=sns.diverging_palette(120, 10, as_cmap=True),\n",
    "            xticklabels=corr.columns.values,\n",
    "            yticklabels=corr.columns.values)"
   ]
  },
  {
   "cell_type": "markdown",
   "metadata": {},
   "source": [
    "A partir de esta imagen podemos ver que tenemos una fuerte correlación entre:\n",
    "    - Largo de pétalos y largo de sépalos\n",
    "    - Ancho de pétalos y largo de sépalos\n",
    "    - Ancho de pétalos y largo de sépalos"
   ]
  },
  {
   "cell_type": "code",
   "execution_count": null,
   "metadata": {},
   "outputs": [],
   "source": []
  }
 ],
 "metadata": {
  "kernelspec": {
   "display_name": "Python 3",
   "language": "python",
   "name": "python3"
  },
  "language_info": {
   "codemirror_mode": {
    "name": "ipython",
    "version": 3
   },
   "file_extension": ".py",
   "mimetype": "text/x-python",
   "name": "python",
   "nbconvert_exporter": "python",
   "pygments_lexer": "ipython3",
   "version": "3.7.1"
  },
  "toc": {
   "base_numbering": 1,
   "nav_menu": {},
   "number_sections": false,
   "sideBar": false,
   "skip_h1_title": false,
   "title_cell": "Table of Contents",
   "title_sidebar": "Contents",
   "toc_cell": false,
   "toc_position": {},
   "toc_section_display": false,
   "toc_window_display": false
  }
 },
 "nbformat": 4,
 "nbformat_minor": 1
}
