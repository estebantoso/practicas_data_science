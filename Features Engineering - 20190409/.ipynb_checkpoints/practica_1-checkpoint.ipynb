{
 "cells": [
  {
   "cell_type": "code",
   "execution_count": 1,
   "metadata": {},
   "outputs": [],
   "source": [
    "import pandas as pd\n",
    "import numpy as np"
   ]
  },
  {
   "cell_type": "code",
   "execution_count": 2,
   "metadata": {},
   "outputs": [],
   "source": [
    "df = pd.read_csv(\"winemag-data-130k-v2.csv\")"
   ]
  },
  {
   "cell_type": "code",
   "execution_count": 3,
   "metadata": {},
   "outputs": [
    {
     "data": {
      "text/html": [
       "<div>\n",
       "<style scoped>\n",
       "    .dataframe tbody tr th:only-of-type {\n",
       "        vertical-align: middle;\n",
       "    }\n",
       "\n",
       "    .dataframe tbody tr th {\n",
       "        vertical-align: top;\n",
       "    }\n",
       "\n",
       "    .dataframe thead th {\n",
       "        text-align: right;\n",
       "    }\n",
       "</style>\n",
       "<table border=\"1\" class=\"dataframe\">\n",
       "  <thead>\n",
       "    <tr style=\"text-align: right;\">\n",
       "      <th></th>\n",
       "      <th>Unnamed: 0</th>\n",
       "      <th>country</th>\n",
       "      <th>description</th>\n",
       "      <th>designation</th>\n",
       "      <th>points</th>\n",
       "      <th>price</th>\n",
       "      <th>province</th>\n",
       "      <th>region_1</th>\n",
       "      <th>region_2</th>\n",
       "      <th>taster_name</th>\n",
       "      <th>taster_twitter_handle</th>\n",
       "      <th>title</th>\n",
       "      <th>variety</th>\n",
       "      <th>winery</th>\n",
       "    </tr>\n",
       "  </thead>\n",
       "  <tbody>\n",
       "    <tr>\n",
       "      <th>0</th>\n",
       "      <td>0</td>\n",
       "      <td>Italy</td>\n",
       "      <td>Aromas include tropical fruit, broom, brimston...</td>\n",
       "      <td>Vulkà Bianco</td>\n",
       "      <td>87</td>\n",
       "      <td>NaN</td>\n",
       "      <td>Sicily &amp; Sardinia</td>\n",
       "      <td>Etna</td>\n",
       "      <td>NaN</td>\n",
       "      <td>Kerin O’Keefe</td>\n",
       "      <td>@kerinokeefe</td>\n",
       "      <td>Nicosia 2013 Vulkà Bianco  (Etna)</td>\n",
       "      <td>White Blend</td>\n",
       "      <td>Nicosia</td>\n",
       "    </tr>\n",
       "    <tr>\n",
       "      <th>1</th>\n",
       "      <td>1</td>\n",
       "      <td>Portugal</td>\n",
       "      <td>This is ripe and fruity, a wine that is smooth...</td>\n",
       "      <td>Avidagos</td>\n",
       "      <td>87</td>\n",
       "      <td>15.0</td>\n",
       "      <td>Douro</td>\n",
       "      <td>NaN</td>\n",
       "      <td>NaN</td>\n",
       "      <td>Roger Voss</td>\n",
       "      <td>@vossroger</td>\n",
       "      <td>Quinta dos Avidagos 2011 Avidagos Red (Douro)</td>\n",
       "      <td>Portuguese Red</td>\n",
       "      <td>Quinta dos Avidagos</td>\n",
       "    </tr>\n",
       "    <tr>\n",
       "      <th>2</th>\n",
       "      <td>2</td>\n",
       "      <td>US</td>\n",
       "      <td>Tart and snappy, the flavors of lime flesh and...</td>\n",
       "      <td>NaN</td>\n",
       "      <td>87</td>\n",
       "      <td>14.0</td>\n",
       "      <td>Oregon</td>\n",
       "      <td>Willamette Valley</td>\n",
       "      <td>Willamette Valley</td>\n",
       "      <td>Paul Gregutt</td>\n",
       "      <td>@paulgwine</td>\n",
       "      <td>Rainstorm 2013 Pinot Gris (Willamette Valley)</td>\n",
       "      <td>Pinot Gris</td>\n",
       "      <td>Rainstorm</td>\n",
       "    </tr>\n",
       "  </tbody>\n",
       "</table>\n",
       "</div>"
      ],
      "text/plain": [
       "   Unnamed: 0   country                                        description  \\\n",
       "0           0     Italy  Aromas include tropical fruit, broom, brimston...   \n",
       "1           1  Portugal  This is ripe and fruity, a wine that is smooth...   \n",
       "2           2        US  Tart and snappy, the flavors of lime flesh and...   \n",
       "\n",
       "    designation  points  price           province           region_1  \\\n",
       "0  Vulkà Bianco      87    NaN  Sicily & Sardinia               Etna   \n",
       "1      Avidagos      87   15.0              Douro                NaN   \n",
       "2           NaN      87   14.0             Oregon  Willamette Valley   \n",
       "\n",
       "            region_2    taster_name taster_twitter_handle  \\\n",
       "0                NaN  Kerin O’Keefe          @kerinokeefe   \n",
       "1                NaN     Roger Voss            @vossroger   \n",
       "2  Willamette Valley   Paul Gregutt           @paulgwine    \n",
       "\n",
       "                                           title         variety  \\\n",
       "0              Nicosia 2013 Vulkà Bianco  (Etna)     White Blend   \n",
       "1  Quinta dos Avidagos 2011 Avidagos Red (Douro)  Portuguese Red   \n",
       "2  Rainstorm 2013 Pinot Gris (Willamette Valley)      Pinot Gris   \n",
       "\n",
       "                winery  \n",
       "0              Nicosia  \n",
       "1  Quinta dos Avidagos  \n",
       "2            Rainstorm  "
      ]
     },
     "execution_count": 3,
     "metadata": {},
     "output_type": "execute_result"
    }
   ],
   "source": [
    "df.head(3)"
   ]
  },
  {
   "cell_type": "code",
   "execution_count": 4,
   "metadata": {},
   "outputs": [
    {
     "data": {
      "text/plain": [
       "(129971, 14)"
      ]
     },
     "execution_count": 4,
     "metadata": {},
     "output_type": "execute_result"
    }
   ],
   "source": [
    "df.shape"
   ]
  },
  {
   "cell_type": "code",
   "execution_count": 5,
   "metadata": {},
   "outputs": [
    {
     "data": {
      "text/plain": [
       "Index(['Unnamed: 0', 'country', 'description', 'designation', 'points',\n",
       "       'price', 'province', 'region_1', 'region_2', 'taster_name',\n",
       "       'taster_twitter_handle', 'title', 'variety', 'winery'],\n",
       "      dtype='object')"
      ]
     },
     "execution_count": 5,
     "metadata": {},
     "output_type": "execute_result"
    }
   ],
   "source": [
    "df.columns"
   ]
  },
  {
   "cell_type": "markdown",
   "metadata": {},
   "source": [
    "**Filtro por rango IQR:**"
   ]
  },
  {
   "cell_type": "code",
   "execution_count": 6,
   "metadata": {},
   "outputs": [
    {
     "name": "stdout",
     "output_type": "stream",
     "text": [
      "1° Cuartil:  17.0\n",
      "3° Cuartil:  42.0\n",
      "Rango intercuartílico:  25.0\n"
     ]
    }
   ],
   "source": [
    "Q1 = df['price'].quantile(0.25)\n",
    "Q3 = df['price'].quantile(0.75)\n",
    "IQR = Q3 - Q1\n",
    "print (\"1° Cuartil: \", Q1)\n",
    "print (\"3° Cuartil: \", Q3)\n",
    "print (\"Rango intercuartílico: \", IQR)"
   ]
  },
  {
   "cell_type": "code",
   "execution_count": 91,
   "metadata": {},
   "outputs": [],
   "source": [
    "df = df[(df['price'] < (1.5 * IQR + Q3)) & (df['price'] > (1.5 * IQR - Q1))]"
   ]
  },
  {
   "cell_type": "markdown",
   "metadata": {},
   "source": [
    "**Analizo todas las entradas únicas (países):**"
   ]
  },
  {
   "cell_type": "code",
   "execution_count": 17,
   "metadata": {},
   "outputs": [
    {
     "data": {
      "text/plain": [
       "array(['US', 'France', 'Germany', 'Argentina', 'Spain', 'Italy', 'Chile',\n",
       "       'Australia', 'South Africa', 'Portugal', 'Israel', 'Hungary',\n",
       "       'Austria', 'Canada', 'New Zealand', nan, 'Greece',\n",
       "       'Czech Republic', 'Romania', 'Croatia', 'Uruguay', 'England',\n",
       "       'Lebanon', 'Serbia', 'Brazil', 'Mexico', 'Slovenia', 'Turkey',\n",
       "       'Moldova', 'Bulgaria', 'Georgia', 'Morocco', 'Switzerland', 'Peru',\n",
       "       'Cyprus', 'Luxembourg'], dtype=object)"
      ]
     },
     "execution_count": 17,
     "metadata": {},
     "output_type": "execute_result"
    }
   ],
   "source": [
    "df['country'].unique()"
   ]
  },
  {
   "cell_type": "markdown",
   "metadata": {},
   "source": [
    "**Ahora establezco la transformación para clasificar los países en los continentes correspondientes, y lo almaceno en el nuevo DF:**"
   ]
  },
  {
   "cell_type": "code",
   "execution_count": 18,
   "metadata": {},
   "outputs": [],
   "source": [
    "continents = {0:('Georgia', 'China', 'India'),\n",
    "              1:('South Africa', 'Morocco', 'Egypt'),\n",
    "              2:('US', 'Mexico', 'Canada'),\n",
    "              3:('Argentina', 'Chile', 'Uruguay', 'Brazil', 'Peru'),\n",
    "              5:('Italy', 'Portugal', 'Spain', 'France', 'Germany', 'Austria', \n",
    "                 'Israel', 'Hungary', 'Greece', 'Romania', 'Turkey', 'Czech Republic', \n",
    "                 'Slovenia', 'Luxembourg', 'Croatia', 'England', 'Lebanon', 'Serbia', \n",
    "                 'Moldova', 'Bulgaria', 'Cyprus', 'Armenia', 'Switzerland',\n",
    "                 'Bosnia and Herzegovina', 'Ukraine', 'Slovakia', 'Macedonia'),\n",
    "              6:('Australia', 'New Zealand')}"
   ]
  },
  {
   "cell_type": "code",
   "execution_count": 19,
   "metadata": {},
   "outputs": [],
   "source": [
    "def get_continent(country):\n",
    "    for ind, v in continents.items():\n",
    "        if country in v:\n",
    "            return ind\n",
    "    return -1"
   ]
  },
  {
   "cell_type": "code",
   "execution_count": 20,
   "metadata": {},
   "outputs": [],
   "source": [
    "df_filtered_aux = pd.DataFrame()"
   ]
  },
  {
   "cell_type": "code",
   "execution_count": 21,
   "metadata": {},
   "outputs": [],
   "source": [
    "df_filtered_aux['continents'] = df['country'].apply(lambda x: get_continent(x))"
   ]
  },
  {
   "cell_type": "markdown",
   "metadata": {},
   "source": [
    "**Ahora separo las columnas para el procesamiento is_sweet:**\n",
    "\n",
    "La columna 'description' es necesaria, ya que aquí se buscará la ocurrencia de la palabra \"sweet\"\n",
    "\n",
    "Ahora asigno 1 a las instancias donde ocurre la palabra \"sweet\", y 0 en caso contrario:\n",
    "\n",
    "1 = \"sweet\";\n",
    "0 != \"sweet\""
   ]
  },
  {
   "cell_type": "code",
   "execution_count": 24,
   "metadata": {},
   "outputs": [],
   "source": [
    "df_filtered_aux['is_sweet'] = df['description'].str.contains('sweet', na=-1, regex=True)"
   ]
  },
  {
   "cell_type": "markdown",
   "metadata": {},
   "source": [
    "**A partir de ahora implemento price_4levels:**\n",
    "\n",
    "Solo es importante la columna 'price'\n",
    "\n",
    "\"LOW\" (precio menor o igual a $15);\n",
    "\"INTERMEDIATE\" (precio entre $15 y $40);\n",
    "\"HIGH\" (precio entre $40 y $70);\n",
    "\"VERY HIGH\" (precio mayor a $70)."
   ]
  },
  {
   "cell_type": "code",
   "execution_count": null,
   "metadata": {},
   "outputs": [],
   "source": [
    "df_filtered = df['price']"
   ]
  },
  {
   "cell_type": "code",
   "execution_count": 26,
   "metadata": {},
   "outputs": [],
   "source": [
    "def price_levels(v):\n",
    "    if (v <= 15):\n",
    "        return('LOW')\n",
    "    elif ((v > 15) & (v <= 40)):\n",
    "        return('INTERMEDIATE')\n",
    "    elif ((v > 40) & (v <= 70)):\n",
    "        return('HIGH')\n",
    "    elif (v <= 15):\n",
    "        return('VERY HIGH')\n",
    "    else:\n",
    "        return(-1)"
   ]
  },
  {
   "cell_type": "code",
   "execution_count": 27,
   "metadata": {},
   "outputs": [],
   "source": [
    "df_filtered_aux['price_4levels'] = df['price'].apply(lambda x: price_levels(x))"
   ]
  },
  {
   "cell_type": "markdown",
   "metadata": {},
   "source": [
    "**Ahora trabajo para obtener was_master_taste:**\n",
    "\n",
    "\"Roger Voss\", \"Michael Schachner\", \"Paul Gregutt\", \"Virginie Boone\" son los maestros.\n",
    "\n",
    "Coloco 1 si el vino fue analizado por uno de ellos y 0 en caso contrario"
   ]
  },
  {
   "cell_type": "code",
   "execution_count": 30,
   "metadata": {},
   "outputs": [],
   "source": [
    "masters = ['Roger Voss', 'Michael Schachner', 'Paul Gregutt', 'Virginie Boone']"
   ]
  },
  {
   "cell_type": "code",
   "execution_count": 31,
   "metadata": {},
   "outputs": [],
   "source": [
    "def is_masters(name):\n",
    "    if name in masters:\n",
    "        return 1\n",
    "    else:\n",
    "        return 0"
   ]
  },
  {
   "cell_type": "code",
   "execution_count": 32,
   "metadata": {},
   "outputs": [],
   "source": [
    "df_filtered_aux['was_master_taster'] = df['taster_name'].apply(lambda x: is_masters(x))"
   ]
  },
  {
   "cell_type": "markdown",
   "metadata": {},
   "source": [
    "**century_title:**\n",
    "\n",
    "Asumiendo que el título del vino frecuentemente contiene el año del mismo, se debe proveer una columna booleana indicando si fue producido el siglo pasado (1900-1999) o el actual (2000-2019). Quizás puede servir la siguiente función de Pandas mediante esta regex: r'.*(\\d{4}).*'."
   ]
  },
  {
   "cell_type": "markdown",
   "metadata": {},
   "source": [
    "Es necesaria la columna 'title'"
   ]
  },
  {
   "cell_type": "code",
   "execution_count": 92,
   "metadata": {},
   "outputs": [],
   "source": [
    "def is_century(anio):\n",
    "    if (anio >= 1900) & (anio <= 1999):\n",
    "        return 0\n",
    "    elif (anio >= 2000) & (anio <= 2019):\n",
    "        return 1\n",
    "    else:\n",
    "        return -1"
   ]
  },
  {
   "cell_type": "code",
   "execution_count": 96,
   "metadata": {},
   "outputs": [],
   "source": [
    "df_filtered_aux['century_title'] = df['title'].str.extract('.(\\d{4}).').fillna(-1).astype(int).apply(lambda x: is_century)"
   ]
  },
  {
   "cell_type": "markdown",
   "metadata": {},
   "source": [
    "**variety_ohe:**\n",
    "\n",
    "Indicar con One Hot Encoding (OHE) mediante 3 columnas si el vino pertenece a alguna de las siguientes 3 categorías:\n",
    "Red: Si entra en el top 8 de principales vinos rojos descriptos aquí.\n",
    "White: Si entra en el top 7 de principales vinos blancos descriptos aquí.\n",
    "Other: El resto de las categorías no cubiertas\n",
    "\n",
    "0 = Red; 1 = White; 2 = Other"
   ]
  },
  {
   "cell_type": "code",
   "execution_count": 98,
   "metadata": {},
   "outputs": [],
   "source": [
    "variety = {0:('Syrah', 'Shiraz', 'Merlot', 'Cabernet Sauvignon',\n",
    "              'Malbec', 'Pinot Noir', 'Zinfandel', 'Sangiovese',\n",
    "              'Barbera'),\n",
    "           1:('Chardonnay', 'Sauvignon Blanc', 'Semillon', 'Moscato',\n",
    "              'Pinot Grigio', 'Gewürztraminer', 'Riesling')}"
   ]
  },
  {
   "cell_type": "code",
   "execution_count": null,
   "metadata": {},
   "outputs": [],
   "source": [
    "def which_variety(variety):\n",
    "    "
   ]
  }
 ],
 "metadata": {
  "kernelspec": {
   "display_name": "Python 3",
   "language": "python",
   "name": "python3"
  },
  "language_info": {
   "codemirror_mode": {
    "name": "ipython",
    "version": 3
   },
   "file_extension": ".py",
   "mimetype": "text/x-python",
   "name": "python",
   "nbconvert_exporter": "python",
   "pygments_lexer": "ipython3",
   "version": "3.7.1"
  }
 },
 "nbformat": 4,
 "nbformat_minor": 2
}
